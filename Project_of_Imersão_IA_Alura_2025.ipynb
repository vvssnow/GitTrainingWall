{
  "nbformat": 4,
  "nbformat_minor": 0,
  "metadata": {
    "colab": {
      "provenance": [],
      "include_colab_link": true
    },
    "kernelspec": {
      "name": "python3",
      "display_name": "Python 3"
    },
    "language_info": {
      "name": "python"
    }
  },
  "cells": [
    {
      "cell_type": "markdown",
      "metadata": {
        "id": "view-in-github",
        "colab_type": "text"
      },
      "source": [
        "<a href=\"https://colab.research.google.com/github/vvssnow/GitTrainingWall/blob/master/Project_of_Imers%C3%A3o_IA_Alura_2025.ipynb\" target=\"_parent\"><img src=\"https://colab.research.google.com/assets/colab-badge.svg\" alt=\"Open In Colab\"/></a>"
      ]
    },
    {
      "cell_type": "code",
      "source": [
        "%pip -q install google-genai"
      ],
      "metadata": {
        "id": "UCCbECexLk_h"
      },
      "execution_count": 1,
      "outputs": []
    },
    {
      "cell_type": "code",
      "source": [
        "# Configura a API Key do Google Gemini\n",
        "\n",
        "import os\n",
        "from google.colab import userdata\n",
        "\n",
        "os.environ[\"GOOGLE_API_KEY\"] = userdata.get('GOOGLE_API_KEY')"
      ],
      "metadata": {
        "id": "NfCqHo1tLk8P"
      },
      "execution_count": 2,
      "outputs": []
    },
    {
      "cell_type": "code",
      "source": [
        "# Configura o cliente da SDK do Gemini\n",
        "\n",
        "from google import genai\n",
        "\n",
        "client = genai.Client()\n",
        "\n",
        "MODEL_ID = \"gemini-2.0-flash\""
      ],
      "metadata": {
        "id": "bV4w0H5TLk5g"
      },
      "execution_count": 3,
      "outputs": []
    },
    {
      "cell_type": "code",
      "source": [
        "# Instalar Framework ADK de agentes do Google ################################################\n",
        "!pip install -q google-adk\n"
      ],
      "metadata": {
        "id": "hvZ3UnPI4jhJ",
        "colab": {
          "base_uri": "https://localhost:8080/"
        },
        "outputId": "61e97a1b-6974-4095-80a3-5f133d053c92"
      },
      "execution_count": 6,
      "outputs": [
        {
          "output_type": "stream",
          "name": "stdout",
          "text": [
            "\u001b[?25l   \u001b[90m━━━━━━━━━━━━━━━━━━━━━━━━━━━━━━━━━━━━━━━━\u001b[0m \u001b[32m0.0/1.2 MB\u001b[0m \u001b[31m?\u001b[0m eta \u001b[36m-:--:--\u001b[0m\r\u001b[2K   \u001b[91m━━━━━━━━━━━━━━━\u001b[0m\u001b[91m╸\u001b[0m\u001b[90m━━━━━━━━━━━━━━━━━━━━━━━━\u001b[0m \u001b[32m0.5/1.2 MB\u001b[0m \u001b[31m14.3 MB/s\u001b[0m eta \u001b[36m0:00:01\u001b[0m\r\u001b[2K   \u001b[90m━━━━━━━━━━━━━━━━━━━━━━━━━━━━━━━━━━━━━━━━\u001b[0m \u001b[32m1.2/1.2 MB\u001b[0m \u001b[31m18.3 MB/s\u001b[0m eta \u001b[36m0:00:00\u001b[0m\n",
            "\u001b[?25h\u001b[?25l   \u001b[90m━━━━━━━━━━━━━━━━━━━━━━━━━━━━━━━━━━━━━━━━\u001b[0m \u001b[32m0.0/232.1 kB\u001b[0m \u001b[31m?\u001b[0m eta \u001b[36m-:--:--\u001b[0m\r\u001b[2K   \u001b[90m━━━━━━━━━━━━━━━━━━━━━━━━━━━━━━━━━━━━━━━━\u001b[0m \u001b[32m232.1/232.1 kB\u001b[0m \u001b[31m16.8 MB/s\u001b[0m eta \u001b[36m0:00:00\u001b[0m\n",
            "\u001b[?25h\u001b[?25l   \u001b[90m━━━━━━━━━━━━━━━━━━━━━━━━━━━━━━━━━━━━━━━━\u001b[0m \u001b[32m0.0/95.2 kB\u001b[0m \u001b[31m?\u001b[0m eta \u001b[36m-:--:--\u001b[0m\r\u001b[2K   \u001b[90m━━━━━━━━━━━━━━━━━━━━━━━━━━━━━━━━━━━━━━━━\u001b[0m \u001b[32m95.2/95.2 kB\u001b[0m \u001b[31m7.6 MB/s\u001b[0m eta \u001b[36m0:00:00\u001b[0m\n",
            "\u001b[2K   \u001b[90m━━━━━━━━━━━━━━━━━━━━━━━━━━━━━━━━━━━━━━━━\u001b[0m \u001b[32m217.1/217.1 kB\u001b[0m \u001b[31m17.0 MB/s\u001b[0m eta \u001b[36m0:00:00\u001b[0m\n",
            "\u001b[2K   \u001b[90m━━━━━━━━━━━━━━━━━━━━━━━━━━━━━━━━━━━━━━━━\u001b[0m \u001b[32m334.1/334.1 kB\u001b[0m \u001b[31m24.8 MB/s\u001b[0m eta \u001b[36m0:00:00\u001b[0m\n",
            "\u001b[2K   \u001b[90m━━━━━━━━━━━━━━━━━━━━━━━━━━━━━━━━━━━━━━━━\u001b[0m \u001b[32m125.1/125.1 kB\u001b[0m \u001b[31m9.9 MB/s\u001b[0m eta \u001b[36m0:00:00\u001b[0m\n",
            "\u001b[2K   \u001b[90m━━━━━━━━━━━━━━━━━━━━━━━━━━━━━━━━━━━━━━━━\u001b[0m \u001b[32m65.8/65.8 kB\u001b[0m \u001b[31m5.6 MB/s\u001b[0m eta \u001b[36m0:00:00\u001b[0m\n",
            "\u001b[2K   \u001b[90m━━━━━━━━━━━━━━━━━━━━━━━━━━━━━━━━━━━━━━━━\u001b[0m \u001b[32m119.0/119.0 kB\u001b[0m \u001b[31m9.6 MB/s\u001b[0m eta \u001b[36m0:00:00\u001b[0m\n",
            "\u001b[2K   \u001b[90m━━━━━━━━━━━━━━━━━━━━━━━━━━━━━━━━━━━━━━━━\u001b[0m \u001b[32m194.9/194.9 kB\u001b[0m \u001b[31m13.6 MB/s\u001b[0m eta \u001b[36m0:00:00\u001b[0m\n",
            "\u001b[2K   \u001b[90m━━━━━━━━━━━━━━━━━━━━━━━━━━━━━━━━━━━━━━━━\u001b[0m \u001b[32m62.5/62.5 kB\u001b[0m \u001b[31m5.2 MB/s\u001b[0m eta \u001b[36m0:00:00\u001b[0m\n",
            "\u001b[2K   \u001b[90m━━━━━━━━━━━━━━━━━━━━━━━━━━━━━━━━━━━━━━━━\u001b[0m \u001b[32m103.3/103.3 kB\u001b[0m \u001b[31m8.9 MB/s\u001b[0m eta \u001b[36m0:00:00\u001b[0m\n",
            "\u001b[2K   \u001b[90m━━━━━━━━━━━━━━━━━━━━━━━━━━━━━━━━━━━━━━━━\u001b[0m \u001b[32m44.4/44.4 kB\u001b[0m \u001b[31m3.3 MB/s\u001b[0m eta \u001b[36m0:00:00\u001b[0m\n",
            "\u001b[2K   \u001b[90m━━━━━━━━━━━━━━━━━━━━━━━━━━━━━━━━━━━━━━━━\u001b[0m \u001b[32m72.0/72.0 kB\u001b[0m \u001b[31m5.4 MB/s\u001b[0m eta \u001b[36m0:00:00\u001b[0m\n",
            "\u001b[?25h"
          ]
        }
      ]
    },
    {
      "cell_type": "code",
      "execution_count": 7,
      "metadata": {
        "id": "aePV2bdfDeoW"
      },
      "outputs": [],
      "source": [
        "from google.adk.agents import Agent\n",
        "from google.adk.runners import Runner\n",
        "from google.adk.sessions import InMemorySessionService\n",
        "from google.adk.tools import google_search\n",
        "from google.genai import types  # Para criar conteúdos (Content e Part)\n",
        "from datetime import date\n",
        "import textwrap # Para formatar melhor a saída de texto\n",
        "from IPython.display import display, Markdown # Para exibir texto formatado no Colab\n",
        "import requests # Para fazer requisições HTTP\n",
        "import warnings\n",
        "\n",
        "warnings.filterwarnings(\"ignore\")"
      ]
    },
    {
      "cell_type": "code",
      "source": [
        "# Função auxiliar que envia uma mensagem para um agente via Runner e retorna a resposta final\n",
        "def call_agent(agent: Agent, message_text: str) -> str:\n",
        "    # Cria um serviço de sessão em memória\n",
        "    session_service = InMemorySessionService()\n",
        "    # Cria uma nova sessão (você pode personalizar os IDs conforme necessário)\n",
        "    session = session_service.create_session(app_name=agent.name, user_id=\"user1\", session_id=\"session1\")\n",
        "    # Cria um Runner para o agente\n",
        "    runner = Runner(agent=agent, app_name=agent.name, session_service=session_service)\n",
        "    # Cria o conteúdo da mensagem de entrada\n",
        "    content = types.Content(role=\"user\", parts=[types.Part(text=message_text)])\n",
        "\n",
        "    final_response = \"\"\n",
        "    # Itera assincronamente pelos eventos retornados durante a execução do agente\n",
        "    for event in runner.run(user_id=\"user1\", session_id=\"session1\", new_message=content):\n",
        "        if event.is_final_response():\n",
        "          for part in event.content.parts:\n",
        "            if part.text is not None:\n",
        "              final_response += part.text\n",
        "              final_response += \"\\n\"\n",
        "    return final_response"
      ],
      "metadata": {
        "id": "_xP4lWhsS5ko"
      },
      "execution_count": 8,
      "outputs": []
    },
    {
      "cell_type": "code",
      "source": [
        "# Função auxiliar para exibir texto formatado em Markdown no Colab\n",
        "def to_markdown(text):\n",
        "  text = text.replace('•', '  *')\n",
        "  return Markdown(textwrap.indent(text, '> ', predicate=lambda _: True))"
      ],
      "metadata": {
        "id": "8dosiodaxfFR"
      },
      "execution_count": 9,
      "outputs": []
    },
    {
      "cell_type": "code",
      "source": [
        "##########################################\n",
        "# --- Agente 1: Consultor --- #\n",
        "##########################################\n",
        "def agente_consultor(topico, lancamentos_buscados):\n",
        "    consultor = Agent(\n",
        "        name=\"agente_consultor\",\n",
        "        model=\"gemini-2.0-flash\",\n",
        "        # Inserir as instruções do Agente redteam #################################################\n",
        "        instruction=\"\"\"\n",
        "\n",
        "        Você é um assistente de pesquisa em Segurança da Informação, com amplo conhecimento sobre\n",
        "         ameaças cibernéticas, vulnerabilidades, exploits, ferramentas de pentest e atualizações do\n",
        "         cenário de segurança. Sua tarefa é utilizar a ferramenta de busca do Google (google_search) para recuperar\n",
        "         as últimas notícias e lançamentos relevantes na área de segurança, com foco no tópico abaixo.\n",
        "         **Instruções:**\n",
        "          1. **Busca atualizada:** Utilize o (google_search) para localizar notícias recentes\n",
        "           (publicadas nos últimos 30 dias) relacionadas a lançamentos ou eventos de grande impacto\n",
        "           na área de segurança da informação (por exemplo, descobertas de vulnerabilidades, atualizações\n",
        "           críticas de segurança, lançamentos de ferramentas de análise de segurança, ou eventos relevantes sobre cibersegurança).\n",
        "          2. **Seleção de resultados:** Foque em identificar até 5 lançamentos ou eventos que se destaquem,\n",
        "          considerando a quantidade de menções e o entusiasmo observado nas publicações e discussões sobre o tema.\n",
        "          3. **Critério de relevância:** Se o tópico investigar apresentar poucas notícias ou reações entusiasmadas,\n",
        "          considere que ele pode não ser tão relevante no momento, e então substitua-o por outro tema que possua maior\n",
        "          engajamento e cobertura na área.\n",
        "          4. **Atualidade:** Certifique-se de que os lançamentos identificados sejam atuais, ou seja, publicados\n",
        "          há no máximo um mês a partir da data de hoje.\n",
        "          Ao final, apresente os resultados de maneira clara e estruturada, destacando os principais pontos de cada notícia ou lançamento e justificando a seleção com base na relevância e no impacto observado na comunidade de segurança da informação.\n",
        "\n",
        "\n",
        "        \"\"\",\n",
        "        description=\"Agente para busca de vulnerabilidades com base em CVE ou Vendor dos ultimos 30 Dias\",\n",
        "        tools=[google_search]\n",
        "    )\n",
        "\n",
        "    entrada_do_agente_consultor = f\"Tópico:{topico}\\nLançamentos buscados: {lancamentos_buscados}\"\n",
        "    # Executa o agente\n",
        "    lancamentos = call_agent(consultor, entrada_do_agente_consultor)\n",
        "    return lancamentos"
      ],
      "metadata": {
        "id": "o8bqIfi_DyH8"
      },
      "execution_count": 22,
      "outputs": []
    },
    {
      "cell_type": "code",
      "source": [
        "################################################\n",
        "# --- Agente 2:  --- RedTeam--- #\n",
        "################################################\n",
        "def agente_redteam(topico, lancamentos_buscados):\n",
        "    redteam = Agent(\n",
        "        name=\"agente_redteam\",\n",
        "        model=\"gemini-2.0-flash\",\n",
        "        # Inserir as instruções do Agente redteam #################################################\n",
        "        instruction=\"\"\"\n",
        "        Você é um especialista em Redteam, com base na lista de lançamentos mais recentes e relevantes\n",
        "        consultor, você deve usar a ferramenta de busca do google (google_search) para informar as\n",
        "        vulnerabilidades mais relevantes que estão amplamente sendo exploradas e que estão no\n",
        "        trendings. Voce tambem pode usar o (google_seach) para encontrar mais informações sobre\n",
        "        os temas e aprofundar.Voce tambem pode usar o (google_seach) para encontrar mais\n",
        "        informações sobre os temas e aprofundas.\n",
        "\n",
        "        \"\"\",\n",
        "        description=\"Orientações a RedTeam\",\n",
        "        tools=[google_search]\n",
        "    )\n",
        "\n",
        "    entrada_do_agente_redteam = f\"Tópico:{topico}\\nLançamentos buscados: {lancamentos_buscados}\"\n",
        "    # Executa o agente\n",
        "    plano_do_post = call_agent(redteam, entrada_do_agente_redteam)\n",
        "    return plano_do_post"
      ],
      "metadata": {
        "id": "y3VO1uo5_ghO"
      },
      "execution_count": 21,
      "outputs": []
    },
    {
      "cell_type": "code",
      "source": [
        "######################################\n",
        "# --- Agente 3: --- blueteam--- #\n",
        "######################################\n",
        "def agente_blueteam(topico, plano_de_post):\n",
        "    blueteam = Agent(\n",
        "        name=\"agente_blueteam\",\n",
        "        model=\"gemini-2.0-flash\",\n",
        "        instruction=\"\"\"\n",
        "            Você é um especialista em blueteam e security operations, você\n",
        "            vai buscar no google (google_search) as melhores práticas e\n",
        "            proteções a serem adotadas e com base nas vulnerabilidade e\n",
        "            brechas informadas, vai traçar um plano de correção que será feito de maneira sucinta e direta.\n",
        "            \"\"\",\n",
        "        description=\"Orientações a BlueTeam\"\n",
        "    )\n",
        "    entrada_do_agente_blueteam = f\"Tópico: {topico}\\nPlano de post: {plano_de_post}\"\n",
        "    # Executa o agente\n",
        "    rascunho = call_agent(blueteam, entrada_do_agente_blueteam)\n",
        "    return rascunho"
      ],
      "metadata": {
        "id": "uOqlg2TRLVh1"
      },
      "execution_count": 26,
      "outputs": []
    },
    {
      "cell_type": "code",
      "source": [
        "##########################################\n",
        "# --- Agente 4: Auditor --- #\n",
        "##########################################\n",
        "def agente_Auditor(topico, rascunho_gerado):\n",
        "    Auditor = Agent(\n",
        "        name=\"agente_Auditor\",\n",
        "        model=\"gemini-2.0-flash\",\n",
        "        instruction=\"\"\"\n",
        "            Você é um Editor e Auditor de Conteúdo meticuloso, especializado Segurança da Informação,\n",
        "            CyberSecurity e Security Operations.\n",
        "            Revise as informações levantadas e crie um documento com clareza, concisão e\n",
        "            correção. A Comunicação deve ser de fácil entendimento com leve teor técnico, utilize\n",
        "            formatação de um documento disponibilizado por auditoria em segurança da informação. Insira\n",
        "            simbolos para destaques nos pontos mais criticos. Faça um documento que não seja consativo de ler deve ter até 5.000 palavras.\n",
        "\n",
        "            Coloque no rodapé do lado direito a seguinte frase: \"Information Security Report\".\n",
        "\n",
        "            \"\"\",\n",
        "        description=\"Realizar a comunicação de forma eficaz e direta.\"\n",
        "    )\n",
        "    entrada_do_agente_Auditor = f\"Tópico: {topico}\\nRascunho: {rascunho_gerado}\"\n",
        "    # Executa o agente\n",
        "    texto_revisado = call_agent(Auditor, entrada_do_agente_Auditor)\n",
        "    return texto_revisado"
      ],
      "metadata": {
        "id": "_aTb1SdkLeT6"
      },
      "execution_count": 44,
      "outputs": []
    },
    {
      "cell_type": "code",
      "source": [
        "from datetime import date\n",
        "#data_de_hoje = date.today().strftime(\"%d/%m/%Y\")\n",
        "data_de_hoje = date.today().strftime(\"%d/%m/%Y\")\n",
        "\n",
        "print(\"Consulta de CVES\")\n",
        "\n",
        "# --- Obter o Tópico do Usuário ---\n",
        "topico = input(\"⚠️ Informe o CVE ou o vendor para ver as vulnerabilidades dos últimos 30 dias: \")\n",
        "\n",
        "# Inserir lógica do sistema de agentes ################################################\n",
        "if not topico:\n",
        "    print(\"Você esqueceu de digitar CVE/Vendor\")\n",
        "else:\n",
        "    print (f\"Buscando Vulnerabilidade(S) {topico}\")\n",
        "\n",
        "    lancamentos_buscados = agente_consultor(topico, data_de_hoje)\n",
        "    print(\"\\n--- Levantamento das Informações ---\\n\")\n",
        "    print(\"--------------------------------------------------------\")\n",
        "    display(to_markdown(lancamentos_buscados))\n",
        "    print(\"----------------------------------------------------------\")\n",
        "\n",
        "    plano_de_post = agente_redteam(topico, lancamentos_buscados)\n",
        "    print(\"\\n--- Orientações ao RedTeam ---\\n\")\n",
        "    display(to_markdown(plano_de_post))\n",
        "    print(\"----------------------------------------------------------\")\n",
        "\n",
        "    rascunho_de_post = agente_blueteam(topico, plano_de_post)\n",
        "    print(\"\\n--- Orientações ao BlueTeam ---\\n\")\n",
        "    display(to_markdown(rascunho_de_post))\n",
        "    print(\"----------------------------------------------------------\")\n",
        "\n",
        "    post_final = agente_Auditor(topico, rascunho_de_post)\n",
        "    print(\"\\n--- Principais Tópicos e Ações ---\\n\")\n",
        "    display(to_markdown(post_final))\n",
        "    print(\"----------------------------------------------------------\")\n",
        "\n"
      ],
      "metadata": {
        "id": "630ummxz4myx",
        "colab": {
          "base_uri": "https://localhost:8080/",
          "height": 1000
        },
        "outputId": "e8e2f64e-6a46-4ae5-e40c-05916fe3f727"
      },
      "execution_count": 45,
      "outputs": [
        {
          "output_type": "stream",
          "name": "stdout",
          "text": [
            "Consulta de CVES\n",
            "⚠️ Informe o CVE ou o vendor para ver as vulnerabilidades dos últimos 30 dias: vmware\n",
            "Buscando Vulnerabilidade(S) vmware\n",
            "\n",
            "--- Levantamento das Informações ---\n",
            "\n",
            "--------------------------------------------------------\n"
          ]
        },
        {
          "output_type": "display_data",
          "data": {
            "text/plain": [
              "<IPython.core.display.Markdown object>"
            ],
            "text/markdown": "> Ok, vou procurar por notícias e lançamentos recentes relacionados a VMware nos últimos 30 dias e verificar quais eventos ou atualizações estão gerando mais impacto na área de segurança da informação.\n> \n> \n> Com base nas minhas buscas, aqui estão os lançamentos e eventos de maior impacto relacionados à VMware nos últimos 30 dias:\n> \n> 1.  **Vulnerabilidades Críticas no VMware ESXi (Março 2025):**\n>     *   Três vulnerabilidades zero-day (CVE-2025-22224, CVE-2025-22225 e CVE-2025-22226) foram descobertas afetando o VMware ESXi, Workstation e Fusion. A exploração dessas falhas permite que um atacante com privilégios em uma VM escape do sandbox e execute código no host, comprometendo o hipervisor e as VMs associadas.  A Broadcom lançou patches para corrigir essas vulnerabilidades, e a CISA as adicionou ao seu catálogo de Vulnerabilidades Exploradas Conhecidas (KEV).\n> \n> 2.  **VMware Aria Automation Cross-site Scripting (Maio 2025):**\n>     *   Uma atualização para o VMware Aria Automation foi lançada para corrigir uma vulnerabilidade de Cross-site Scripting (XSS) baseada em DOM, identificada como CVE-2025-22249.\n> \n> 3.  **VMware Tools Insecure File Handling (Maio 2025):**\n>     *   Uma atualização do VMware Tools foi lançada para resolver uma vulnerabilidade de manipulação insegura de arquivos (CVE-2025-22247). A Positive Technologies reportou essa vulnerabilidade à VMware.\n> \n> 4.  **Atualizações do VMware Aria Operations (Abril 2025):**\n>     *   Atualizações para o VMware Aria Operations foram lançadas para corrigir uma vulnerabilidade de escalonamento de privilégios local (CVE-2025-22231).\n> \n> 5.  **Broadcom Requer Rollback de Atualizações (Maio 2025):**\n>     *   A Broadcom, empresa controladora da VMware, começou a emitir cartas de \"cease-and-desist\" para clientes com licenças perpétuas cujo suporte ao cliente expirou. Essas cartas exigem que os clientes removam todas as atualizações feitas após o término de seus contratos de suporte, sob ameaça de auditorias e possível litígio. A única exceção a essa exigência permite que os clientes retenham atualizações que abordam vulnerabilidades zero-day ou aquelas com uma pontuação CVSS de 9.0 ou superior.\n> \n> Justificativa:\n> \n> *   As vulnerabilidades críticas no ESXi (item 1) são de alta gravidade e estavam sendo exploradas ativamente, o que representa um risco significativo para os ambientes VMware.\n> *   Os itens 2, 3 e 4 são vulnerabilidades que foram corrigidas recentemente e, portanto, são importantes para manter a segurança dos produtos VMware.\n> *   O item 5 é relevante porque a exigência de rollback de atualizações pode ter implicações de segurança significativas para os clientes da VMware.\n> \n"
          },
          "metadata": {}
        },
        {
          "output_type": "stream",
          "name": "stdout",
          "text": [
            "----------------------------------------------------------\n",
            "\n",
            "--- Orientações ao RedTeam ---\n",
            "\n"
          ]
        },
        {
          "output_type": "display_data",
          "data": {
            "text/plain": [
              "<IPython.core.display.Markdown object>"
            ],
            "text/markdown": "> Com certeza! Com base nos lançamentos e eventos recentes da VMware, aqui estão algumas das vulnerabilidades mais relevantes e amplamente exploradas que você deve estar atento:\n> \n> **1. Vulnerabilidades Críticas no VMware ESXi (CVE-2025-22224, CVE-2025-22225 e CVE-2025-22226):**\n> \n> *   **Impacto:** Essas vulnerabilidades zero-day permitem que um invasor escape do ambiente virtualizado (sandbox) e execute código malicioso diretamente no host, comprometendo todo o hipervisor e as máquinas virtuais (VMs) associadas.\n> *   **Gravidade:** Crítica. A CISA (Cybersecurity and Infrastructure Security Agency) adicionou essas vulnerabilidades ao seu catálogo de Vulnerabilidades Ativamente Exploradas Conhecidas (KEV), o que significa que elas estão sendo amplamente exploradas por cibercriminosos.\n> *   **Correção:** A Broadcom (empresa controladora da VMware) lançou patches para corrigir essas vulnerabilidades. É fundamental aplicar esses patches o mais rápido possível para evitar a exploração.\n> \n> **2. VMware Aria Automation Cross-site Scripting (XSS) (CVE-2025-22249):**\n> \n> *   **Impacto:** Essa vulnerabilidade permite que um invasor execute scripts maliciosos no navegador de um usuário, o que pode levar ao roubo de informações confidenciais, sequestro de contas e outras atividades maliciosas.\n> *   **Gravidade:** Média. Embora não seja tão grave quanto as vulnerabilidades no ESXi, ainda representa um risco significativo para a segurança do VMware Aria Automation.\n> *   **Correção:** Uma atualização foi lançada para corrigir essa vulnerabilidade.\n> \n> **3. VMware Tools Insecure File Handling (CVE-2025-22247):**\n> \n> *   **Impacto:** Essa vulnerabilidade permite que um invasor manipule arquivos de forma insegura, o que pode levar à execução de código malicioso, escalada de privilégios e outras atividades maliciosas.\n> *   **Gravidade:** Média. Essa vulnerabilidade foi reportada pela Positive Technologies, o que indica que ela é conhecida e pode ser explorada por cibercriminosos.\n> *   **Correção:** Uma atualização do VMware Tools foi lançada para resolver essa vulnerabilidade.\n> \n> **4. Implicações da Exigência de Rollback de Atualizações da Broadcom:**\n> \n> *   **Impacto:** A exigência da Broadcom para que clientes com licenças perpétuas removam atualizações após o término do suporte pode ter implicações de segurança significativas. Se os clientes forem forçados a usar versões antigas do software, eles podem ficar vulneráveis a vulnerabilidades conhecidas que foram corrigidas em versões mais recentes.\n> *   **Gravidade:** Alta. Essa exigência pode aumentar significativamente o risco de exploração de vulnerabilidades em ambientes VMware.\n> *   **Recomendação:** Avalie cuidadosamente os riscos e benefícios de remover as atualizações. Se você estiver usando uma versão antiga do software, considere atualizar para uma versão mais recente que seja suportada e receba atualizações de segurança.\n> \n> Para mais informações sobre essas vulnerabilidades e como corrigi-las, consulte os seguintes recursos:\n> \n> *   **VMware Security Advisories:** Este site contém informações sobre todas as vulnerabilidades de segurança conhecidas nos produtos VMware.\n> *   **CISA Known Exploited Vulnerabilities Catalog:** Este catálogo contém informações sobre vulnerabilidades que estão sendo ativamente exploradas por cibercriminosos.\n> \n> Para garantir a segurança do seu ambiente VMware, é fundamental aplicar patches de segurança o mais rápido possível e manter-se atualizado sobre as últimas vulnerabilidades e ameaças.\n> \n> Você gostaria de saber mais sobre alguma dessas vulnerabilidades em particular? Ou talvez queira saber como se proteger contra elas?\n> \n> Com certeza! Para complementar as informações já fornecidas, aqui está um resumo detalhado das vulnerabilidades mencionadas, juntamente com informações adicionais relevantes:\n> \n> **1. Vulnerabilidades Críticas no VMware ESXi (CVE-2025-22224, CVE-2025-22225 e CVE-2025-22226):**\n> \n> *   **Descrição:**\n>     *   **CVE-2025-22224:** Vulnerabilidade TOCTOU (Time-of-Check Time-of-Use) que permite a um invasor local autenticado com privilégios de administrador executar código no processo VMX (máquina virtual executável) no host.\n>     *   **CVE-2025-22225:** Vulnerabilidade de gravação arbitrária que permite a um invasor com privilégios VMX executar gravações arbitrárias no kernel, potencialmente levando à fuga do sandbox.\n>     *   **CVE-2025-22226:** Vulnerabilidade de divulgação de informações que permite a um invasor com acesso administrativo à VM extrair conteúdo da memória do processo VMX.\n> *   **Impacto:** A exploração bem-sucedida dessas vulnerabilidades pode permitir que um invasor escape do ambiente virtualizado, execute código malicioso no host e comprometa todo o hipervisor e as VMs associadas.\n> *   **Gravidade:** Crítica (CVE-2025-22224) e Alta (CVE-2025-22225 e CVE-2025-22226).\n> *   **Produtos afetados:** VMware ESXi, VMware Workstation e VMware Fusion.\n> *   **Correção:** Aplique os patches de segurança mais recentes fornecidos pela Broadcom.\n> *   **Informações adicionais:**\n>     *   A Microsoft Threat Intelligence Center foi a primeira a detectar a exploração dessas vulnerabilidades em ambientes reais e notificou a Broadcom.\n>     *   Mais de 41.000 servidores ESXi foram afetados globalmente, principalmente na China, França, EUA, Alemanha, Irã e Brasil.\n> \n> **2. VMware Aria Automation Cross-site Scripting (XSS) (CVE-2025-22249):**\n> \n> *   **Descrição:** Vulnerabilidade XSS baseada em DOM que permite a um invasor roubar o token de acesso de um usuário conectado ao VMware Aria Automation, induzindo o usuário a clicar em uma URL maliciosa.\n> *   **Impacto:** A exploração bem-sucedida dessa vulnerabilidade pode permitir que um invasor obtenha controle total da conta do usuário e execute qualquer ação que o usuário tenha permissão para realizar.\n> *   **Gravidade:** Alta.\n> *   **Produtos afetados:** VMware Aria Automation, VMware Cloud Foundation.\n> *   **Correção:** Aplique os patches de segurança mais recentes fornecidos pela VMware.\n> *   **Informações adicionais:**\n>     *   A vulnerabilidade requer interação do usuário e pode ser explorada por meio de ataques de phishing.\n>     *   Evite clicar em links não confiáveis e mantenha seu software atualizado para mitigar os riscos associados a essa vulnerabilidade.\n> \n> **3. VMware Tools Insecure File Handling (CVE-2025-22247):**\n> \n> *   **Descrição:** Vulnerabilidade de manipulação insegura de arquivos que permite que um invasor com privilégios não administrativos em uma VM convidada manipule arquivos locais para acionar operações de arquivo inseguras dentro dessa VM.\n> *   **Impacto:** A exploração bem-sucedida dessa vulnerabilidade pode permitir que um invasor execute código malicioso, escale privilégios e execute outras atividades maliciosas.\n> *   **Gravidade:** Média.\n> *   **Produtos afetados:** VMware Tools para Windows e Linux.\n> *   **Correção:** Atualize para o VMware Tools versão 12.5.2 ou posterior.\n> *   **Informações adicionais:**\n>     *   Essa vulnerabilidade foi relatada por Sergey Bliznyuk da Positive Technologies.\n>     *   A exploração requer acesso local à VM convidada, limitando a superfície de ataque, mas ainda apresentando risco significativo para ambientes multiusuário.\n> \n> **4. Implicações da Exigência de Rollback de Atualizações da Broadcom:**\n> \n> *   **Descrição:** A Broadcom está exigindo que clientes com licenças perpétuas removam atualizações após o término do suporte, com exceção de atualizações que abordam vulnerabilidades zero-day ou aquelas com uma pontuação CVSS de 9.0 ou superior.\n> *   **Impacto:** Essa exigência pode ter implicações de segurança significativas, pois pode forçar os clientes a usar versões antigas do software, tornando-os vulneráveis a vulnerabilidades conhecidas.\n> *   **Gravidade:** Alta.\n> *   **Recomendação:** Avalie cuidadosamente os riscos e benefícios de remover as atualizações. Se você estiver usando uma versão antiga do software, considere atualizar para uma versão mais recente que seja suportada e receba atualizações de segurança.\n> \n> Para se manter atualizado sobre as últimas vulnerabilidades e ameaças, recomendo monitorar os seguintes recursos:\n> \n> *   **VMware Security Advisories:** \\[URL vmware security advisories ON Broadcom[VMware Security Advisories]]\n> *   **CISA Known Exploited Vulnerabilities Catalog:** \\[URL CISA KEV ON CISA[CISA Known Exploited Vulnerabilities Catalog]]\n> \n> Lembre-se de que a segurança do seu ambiente VMware é uma prioridade, e a aplicação oportuna de patches de segurança e o monitoramento contínuo são essenciais para mitigar riscos e proteger seus sistemas contra ameaças cibernéticas.\n> \n"
          },
          "metadata": {}
        },
        {
          "output_type": "stream",
          "name": "stdout",
          "text": [
            "----------------------------------------------------------\n",
            "\n",
            "--- Orientações ao BlueTeam ---\n",
            "\n"
          ]
        },
        {
          "output_type": "display_data",
          "data": {
            "text/plain": [
              "<IPython.core.display.Markdown object>"
            ],
            "text/markdown": "> Com base nas vulnerabilidades e brechas informadas, aqui está um plano de correção sucinto e direto para fortalecer a segurança do seu ambiente VMware:\n> \n> **Priorização:**\n> \n> 1.  **ESXi (CVE-2025-22224, CVE-2025-22225, CVE-2025-22226):** Correção imediata devido à criticidade e exploração ativa.\n> 2.  **Aria Automation (CVE-2025-22249):** Correção rápida devido ao potencial de roubo de credenciais.\n> 3.  **VMware Tools (CVE-2025-22247):** Atualização em seguida, considerando o acesso local necessário para exploração.\n> 4.  **Rollback de Atualizações Broadcom:** Avaliação individual de risco e impacto, com planejamento para atualização ou mitigação.\n> \n> **Ações de correção:**\n> \n> *   **ESXi:**\n>     *   Aplicar patches de segurança fornecidos pela Broadcom o mais rápido possível.\n>     *   Monitorar logs de eventos em busca de atividades suspeitas.\n>     *   Considerar o isolamento de rede temporário de hosts ESXi críticos até a aplicação do patch.\n> *   **Aria Automation:**\n>     *   Aplicar os patches de segurança fornecidos pela VMware.\n>     *   Orientar usuários a evitar clicar em links suspeitos.\n>     *   Implementar autenticação multifator (MFA) para contas de administrador.\n> *   **VMware Tools:**\n>     *   Atualizar para a versão 12.5.2 ou posterior em todas as VMs (Windows e Linux).\n>     *   Automatizar o processo de atualização usando ferramentas de gerenciamento de configuração.\n> *   **Rollback de Atualizações Broadcom:**\n>     *   Analisar o impacto de remover atualizações em termos de vulnerabilidades conhecidas.\n>     *   Criar um plano de atualização para versões suportadas.\n>     *   Implementar medidas de segurança adicionais (WAF, IDS/IPS) para mitigar riscos em versões antigas.\n> \n> **Monitoramento Contínuo:**\n> \n> *   **Fontes de informação:**\n>     *   VMware Security Advisories.\n>     *   CISA Known Exploited Vulnerabilities Catalog.\n> *   **Ferramentas:**\n>     *   SIEM (Security Information and Event Management) para centralizar logs e alertas.\n>     *   Ferramentas de análise de vulnerabilidades para identificar sistemas não corrigidos.\n> \n> **Melhores Práticas Gerais (blueteam):**\n> \n> *   **Segmentação de rede:** Isolar ambientes de produção de ambientes de teste e desenvolvimento.\n> *   **Princípio do menor privilégio:** Limitar o acesso administrativo apenas ao necessário.\n> *   **Endurecimento de configuração:** Seguir as melhores práticas de segurança da VMware para configurar ESXi e VMs.\n> *   **Testes de penetração:** Realizar testes regulares para identificar vulnerabilidades e validar a eficácia das medidas de segurança.\n> *   **Resposta a incidentes:** Desenvolver um plano de resposta a incidentes para lidar com violações de segurança de forma rápida e eficaz.\n> \n> Este plano é um guia inicial. Adapte-o à sua infraestrutura específica e às suas políticas de segurança. A aplicação imediata de patches e o monitoramento contínuo são cruciais para proteger seu ambiente VMware contra ameaças.\n> \n> \n"
          },
          "metadata": {}
        },
        {
          "output_type": "stream",
          "name": "stdout",
          "text": [
            "----------------------------------------------------------\n",
            "\n",
            "--- Principais Tópicos e Ações ---\n",
            "\n"
          ]
        },
        {
          "output_type": "display_data",
          "data": {
            "text/plain": [
              "<IPython.core.display.Markdown object>"
            ],
            "text/markdown": "> ## Relatório de Auditoria de Segurança da Informação: Fortalecendo seu Ambiente VMware\n> \n> **Data:** 26 de Maio de 2024\n> \n> **Objetivo:** Este relatório apresenta um plano de ação conciso e direto para mitigar as vulnerabilidades identificadas no seu ambiente VMware, visando fortalecer a sua postura de segurança.\n> \n> ### 1. Priorização das Ações de Remediação\n> \n> A urgência na aplicação das correções é determinada pela criticidade das vulnerabilidades e pela sua exploração ativa no cenário de ameaças atual. A priorização a seguir deve ser rigorosamente seguida:\n> \n> 1.  **🚨 ESXi (CVE-2025-22224, CVE-2025-22225, CVE-2025-22226):** **Correção Imediata**. Dada a criticidade destas vulnerabilidades e a sua exploração ativa, a aplicação de patches deve ser a prioridade máxima.\n> 2.  **🔥 Aria Automation (CVE-2025-22249):** **Correção Urgente**. O potencial de roubo de credenciais exige uma resposta rápida para evitar o comprometimento de contas e sistemas.\n> 3.  **⚠️ VMware Tools (CVE-2025-22247):** **Atualização Prioritária**. Embora a exploração requeira acesso local, a vasta instalação do VMware Tools torna esta vulnerabilidade um risco significativo.\n> 4.  **🚧 Rollback de Atualizações Broadcom:** **Avaliação e Planejamento Cuidadosos**. A decisão de reverter atualizações deve ser baseada em uma análise individual de risco e impacto, seguida por um plano bem definido para atualização ou mitigação.\n> \n> ### 2. Ações de Correção Detalhadas\n> \n> A implementação das seguintes ações de correção é fundamental para reduzir a superfície de ataque e proteger o seu ambiente VMware:\n> \n> *   **ESXi:**\n>     *   ✅ **Aplicação de Patches:** Implementar os patches de segurança fornecidos pela Broadcom **IMEDIATAMENTE**. Atrasos podem expor seus sistemas a ataques.\n>     *   🔍 **Monitoramento de Logs:** Monitorar ativamente os logs de eventos em busca de atividades suspeitas que possam indicar uma tentativa de exploração.\n>     *   🛡️ **Isolamento de Rede:** Considerar o isolamento temporário de rede de hosts ESXi críticos até que os patches sejam aplicados, restringindo o acesso a sistemas essenciais.\n> *   **Aria Automation:**\n>     *   ✅ **Aplicação de Patches:** Aplicar os patches de segurança disponibilizados pela VMware **URGENTEMENTE**.\n>     *   📢 **Conscientização dos Usuários:** Educar os usuários sobre os riscos de clicar em links suspeitos, reforçando a importância de verificar a autenticidade das fontes.\n>     *   🔒 **Autenticação Multifator (MFA):** Implementar MFA para todas as contas de administrador, adicionando uma camada extra de segurança contra acesso não autorizado.\n> *   **VMware Tools:**\n>     *   ⬆️ **Atualização para a Versão 12.5.2 ou Posterior:** Atualizar o VMware Tools para a versão mais recente em todas as máquinas virtuais (Windows e Linux).\n>     *   🤖 **Automatização:** Automatizar o processo de atualização usando ferramentas de gerenciamento de configuração para garantir a aplicação consistente em todo o ambiente.\n> *   **Rollback de Atualizações Broadcom:**\n>     *   📊 **Análise de Impacto:** Avaliar minuciosamente o impacto da remoção de atualizações em termos de vulnerabilidades conhecidas e riscos associados.\n>     *   📅 **Plano de Atualização:** Criar um plano de atualização detalhado para versões suportadas, minimizando o período em que os sistemas permanecem vulneráveis.\n>     *   🛡️ **Medidas de Segurança Adicionais:** Implementar medidas de segurança adicionais, como Web Application Firewalls (WAF) e sistemas de detecção/prevenção de intrusão (IDS/IPS), para mitigar os riscos associados a versões antigas.\n> \n> ### 3. Monitoramento Contínuo e Inteligência de Ameaças\n> \n> O monitoramento contínuo e a inteligência de ameaças são essenciais para detectar e responder a novas vulnerabilidades e ataques.\n> \n> *   **Fontes de Informação:**\n>     *   **VMware Security Advisories:** Acompanhar de perto os avisos de segurança da VMware para obter informações sobre novas vulnerabilidades e patches.\n>     *   **CISA Known Exploited Vulnerabilities Catalog:** Consultar o catálogo da CISA para identificar vulnerabilidades que estão sendo ativamente exploradas.\n> *   **Ferramentas:**\n>     *   **SIEM (Security Information and Event Management):** Implementar um SIEM para centralizar logs e alertas de segurança, facilitando a detecção de atividades suspeitas.\n>     *   **Análise de Vulnerabilidades:** Utilizar ferramentas de análise de vulnerabilidades para identificar sistemas não corrigidos e avaliar o risco de exposição.\n> \n> ### 4. Melhores Práticas de Segurança (Blueteam)\n> \n> A adoção das seguintes melhores práticas de segurança é fundamental para fortalecer a resiliência do seu ambiente VMware:\n> \n> *   **Segmentação de Rede:** Isolar ambientes de produção de ambientes de teste e desenvolvimento, limitando o impacto de possíveis comprometimentos.\n> *   **Princípio do Menor Privilégio:** Conceder acesso administrativo apenas ao pessoal autorizado e limitar os privilégios ao mínimo necessário.\n> *   **Endurecimento de Configuração:** Seguir as melhores práticas de segurança da VMware para configurar ESXi e máquinas virtuais, reduzindo a superfície de ataque.\n> *   **Testes de Penetração:** Realizar testes de penetração regulares para identificar vulnerabilidades e validar a eficácia das medidas de segurança implementadas.\n> *   **Resposta a Incidentes:** Desenvolver e manter um plano de resposta a incidentes para lidar com violações de segurança de forma rápida e eficaz, minimizando o impacto nos negócios.\n> \n> ### 5. Considerações Finais\n> \n> Este plano de ação serve como um guia inicial. É crucial adaptá-lo à sua infraestrutura específica e às suas políticas de segurança. A aplicação imediata de patches e o monitoramento contínuo são essenciais para proteger seu ambiente VMware contra ameaças em constante evolução.\n> \n> A segurança da informação é um processo contínuo. A vigilância constante e a adaptação às novas ameaças são fundamentais para manter um ambiente VMware seguro e resiliente.\n> \n> ***\n> \n> Information Security Report\n> \n"
          },
          "metadata": {}
        },
        {
          "output_type": "stream",
          "name": "stdout",
          "text": [
            "----------------------------------------------------------\n"
          ]
        }
      ]
    }
  ]
}